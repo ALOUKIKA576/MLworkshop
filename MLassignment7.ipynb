{
  "nbformat": 4,
  "nbformat_minor": 0,
  "metadata": {
    "colab": {
      "provenance": [],
      "authorship_tag": "ABX9TyMNY240AmuoMt4kHpG4q9NJ",
      "include_colab_link": true
    },
    "kernelspec": {
      "name": "python3",
      "display_name": "Python 3"
    },
    "language_info": {
      "name": "python"
    }
  },
  "cells": [
    {
      "cell_type": "markdown",
      "metadata": {
        "id": "view-in-github",
        "colab_type": "text"
      },
      "source": [
        "<a href=\"https://colab.research.google.com/github/ALOUKIKA576/MLworkshop/blob/main/MLassignment7.ipynb\" target=\"_parent\"><img src=\"https://colab.research.google.com/assets/colab-badge.svg\" alt=\"Open In Colab\"/></a>"
      ]
    },
    {
      "cell_type": "markdown",
      "source": [
        "#Build the following Classification models by picking a suitable dataset. Before training,\n",
        "analyze the data and preprocess it.\n",
        "• Logistic Regression model\n",
        "\n",
        "• Naïve Bayes model\n",
        "\n",
        "• KNN Model\n",
        "\n",
        "• Decision Tree\n",
        "\n",
        "• Support Vector Classifier\n",
        "\n",
        "Report Accuracy, Precision, Recall, F1-Score on test data for all the above model"
      ],
      "metadata": {
        "id": "4u8SgFNFacv2"
      }
    },
    {
      "cell_type": "code",
      "source": [
        "\n",
        "import pandas as pd\n",
        "import numpy as np\n",
        "from sklearn.datasets import load_iris\n",
        "from sklearn.model_selection import train_test_split\n",
        "from sklearn.preprocessing import StandardScaler\n",
        "from sklearn.metrics import accuracy_score, precision_score, recall_score, f1_score\n",
        "from sklearn.linear_model import LogisticRegression\n",
        "from sklearn.naive_bayes import GaussianNB\n",
        "from sklearn.neighbors import KNeighborsClassifier\n",
        "from sklearn.tree import DecisionTreeClassifier\n",
        "from sklearn.svm import SVC\n",
        "\n"
      ],
      "metadata": {
        "id": "gSBq7tPXaqWK"
      },
      "execution_count": 4,
      "outputs": []
    },
    {
      "cell_type": "markdown",
      "source": [
        "##load the iris data set"
      ],
      "metadata": {
        "id": "PbXBTaxpDOPa"
      }
    },
    {
      "cell_type": "code",
      "source": [
        "iris = load_iris()\n",
        "X = pd.DataFrame(iris.data, columns=iris.feature_names)\n",
        "y = iris.target"
      ],
      "metadata": {
        "id": "2PZdXduybfED"
      },
      "execution_count": 5,
      "outputs": []
    },
    {
      "cell_type": "markdown",
      "source": [
        "##Split the dataset into training and test sets"
      ],
      "metadata": {
        "id": "twM1PPnmDj-g"
      }
    },
    {
      "cell_type": "code",
      "source": [
        "X_train, X_test, y_train, y_test = train_test_split(X, y, test_size=0.3, random_state=42)"
      ],
      "metadata": {
        "id": "jedKGhUnDmIn"
      },
      "execution_count": 7,
      "outputs": []
    },
    {
      "cell_type": "markdown",
      "source": [
        "##Standardize the features for KNN and SVC"
      ],
      "metadata": {
        "id": "G0iJVaKyD2xR"
      }
    },
    {
      "cell_type": "code",
      "source": [
        "scaler = StandardScaler()\n",
        "X_train_scaled = scaler.fit_transform(X_train)\n",
        "X_test_scaled = scaler.transform(X_test)\n",
        ""
      ],
      "metadata": {
        "id": "DZyl4StpD50R"
      },
      "execution_count": 8,
      "outputs": []
    },
    {
      "cell_type": "markdown",
      "source": [
        "##Dictionary to store results"
      ],
      "metadata": {
        "id": "KyBdo6mtEDLh"
      }
    },
    {
      "cell_type": "code",
      "source": [
        "results = {}\n",
        ""
      ],
      "metadata": {
        "id": "jH_9r5KFEFB9"
      },
      "execution_count": 9,
      "outputs": []
    },
    {
      "cell_type": "markdown",
      "source": [
        "##Function to evaluate model performance"
      ],
      "metadata": {
        "id": "6BHfeygPEMWg"
      }
    },
    {
      "cell_type": "code",
      "source": [
        "def evaluate_model(model, X_train, X_test, y_train, y_test, model_name, scaled=False):\n",
        "    if scaled:\n",
        "        model.fit(X_train_scaled, y_train)\n",
        "        y_pred = model.predict(X_test_scaled)\n",
        "    else:\n",
        "        model.fit(X_train, y_train)\n",
        "        y_pred = model.predict(X_test)\n",
        "\n",
        "    accuracy = accuracy_score(y_test, y_pred)\n",
        "    precision = precision_score(y_test, y_pred, average=\"weighted\")\n",
        "    recall = recall_score(y_test, y_pred, average=\"weighted\")\n",
        "    f1 = f1_score(y_test, y_pred, average=\"weighted\")\n",
        "\n",
        "    results[model_name] = {\n",
        "        \"Accuracy\": accuracy,\n",
        "        \"Precision\": precision,\n",
        "        \"Recall\": recall,\n",
        "        \"F1-Score\": f1\n",
        "    }"
      ],
      "metadata": {
        "id": "lIH_qEyMEOgN"
      },
      "execution_count": 10,
      "outputs": []
    },
    {
      "cell_type": "markdown",
      "source": [
        "##Logistic Regression"
      ],
      "metadata": {
        "id": "L8Txc4y5ET_I"
      }
    },
    {
      "cell_type": "code",
      "source": [
        "evaluate_model(LogisticRegression(), X_train, X_test, y_train, y_test, \"Logistic Regression\")"
      ],
      "metadata": {
        "id": "D4EH3WZfEVrE"
      },
      "execution_count": 11,
      "outputs": []
    },
    {
      "cell_type": "markdown",
      "source": [
        "##Naive Bayes"
      ],
      "metadata": {
        "id": "grvQczItEb6N"
      }
    },
    {
      "cell_type": "code",
      "source": [
        "evaluate_model(GaussianNB(), X_train, X_test, y_train, y_test, \"Naive Bayes\")"
      ],
      "metadata": {
        "id": "7oONKMS_Edqp"
      },
      "execution_count": 12,
      "outputs": []
    },
    {
      "cell_type": "markdown",
      "source": [
        "##KNN"
      ],
      "metadata": {
        "id": "yud9jo7YEidQ"
      }
    },
    {
      "cell_type": "code",
      "source": [
        "\n",
        "evaluate_model(KNeighborsClassifier(n_neighbors=3), X_train, X_test, y_train, y_test, \"KNN\", scaled=True)"
      ],
      "metadata": {
        "id": "Q71WkPoEEj_s"
      },
      "execution_count": 13,
      "outputs": []
    },
    {
      "cell_type": "markdown",
      "source": [
        "##Decision Tree"
      ],
      "metadata": {
        "id": "kMouVZ-yEqX4"
      }
    },
    {
      "cell_type": "code",
      "source": [
        "\n",
        "evaluate_model(DecisionTreeClassifier(random_state=42), X_train, X_test, y_train, y_test, \"Decision Tree\")"
      ],
      "metadata": {
        "id": "8v1v5AL5Erp5"
      },
      "execution_count": 14,
      "outputs": []
    },
    {
      "cell_type": "markdown",
      "source": [
        "##Support Vector Classifier (SVC)"
      ],
      "metadata": {
        "id": "PJ4hMrDbEwxS"
      }
    },
    {
      "cell_type": "code",
      "source": [
        "evaluate_model(SVC(kernel=\"linear\", random_state=42), X_train, X_test, y_train, y_test, \"SVC\", scaled=True)"
      ],
      "metadata": {
        "id": "7_SHLo3SEzpl"
      },
      "execution_count": 15,
      "outputs": []
    },
    {
      "cell_type": "markdown",
      "source": [
        "##Display results"
      ],
      "metadata": {
        "id": "HaK9KY6nE9zU"
      }
    },
    {
      "cell_type": "code",
      "source": [
        "results_df = pd.DataFrame(results).T\n",
        "print(\"\\nModel Performance Metrics:\")\n",
        "print(results_df)"
      ],
      "metadata": {
        "colab": {
          "base_uri": "https://localhost:8080/"
        },
        "id": "0Aj0MEyNE-_A",
        "outputId": "794357b0-7eed-4d33-e9de-1c85c39ec5c0"
      },
      "execution_count": 16,
      "outputs": [
        {
          "output_type": "stream",
          "name": "stdout",
          "text": [
            "\n",
            "Model Performance Metrics:\n",
            "                     Accuracy  Precision    Recall  F1-Score\n",
            "Logistic Regression  1.000000   1.000000  1.000000  1.000000\n",
            "Naive Bayes          0.977778   0.979365  0.977778  0.977745\n",
            "KNN                  1.000000   1.000000  1.000000  1.000000\n",
            "Decision Tree        1.000000   1.000000  1.000000  1.000000\n",
            "SVC                  0.977778   0.979365  0.977778  0.977745\n"
          ]
        }
      ]
    }
  ]
}