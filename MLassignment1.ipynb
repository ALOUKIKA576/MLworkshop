{
  "nbformat": 4,
  "nbformat_minor": 0,
  "metadata": {
    "colab": {
      "provenance": [],
      "toc_visible": true,
      "authorship_tag": "ABX9TyMPJYehj3rFqPQ/9Id0kQ9T",
      "include_colab_link": true
    },
    "kernelspec": {
      "name": "python3",
      "display_name": "Python 3"
    },
    "language_info": {
      "name": "python"
    }
  },
  "cells": [
    {
      "cell_type": "markdown",
      "metadata": {
        "id": "view-in-github",
        "colab_type": "text"
      },
      "source": [
        "<a href=\"https://colab.research.google.com/github/ALOUKIKA576/MLworkshop/blob/main/MLassignment1.ipynb\" target=\"_parent\"><img src=\"https://colab.research.google.com/assets/colab-badge.svg\" alt=\"Open In Colab\"/></a>"
      ]
    },
    {
      "cell_type": "markdown",
      "source": [
        "\n",
        "\n",
        "\n"
      ],
      "metadata": {
        "id": "E8F9G0ZMareZ"
      }
    },
    {
      "cell_type": "markdown",
      "source": [
        "#1.Perform arthimetic operations on Numpy Arrays"
      ],
      "metadata": {
        "id": "M3jepL5warvT"
      }
    },
    {
      "cell_type": "code",
      "source": [
        "import numpy as np"
      ],
      "metadata": {
        "id": "wVc3YCMkbWDL"
      },
      "execution_count": null,
      "outputs": []
    },
    {
      "cell_type": "markdown",
      "source": [
        "##Addition\n"
      ],
      "metadata": {
        "id": "qE99_UZPbhBc"
      }
    },
    {
      "cell_type": "code",
      "source": [
        "a=np.array([1,2,3])\n",
        "b=np.array([4,5,6])\n",
        "print(a+b)"
      ],
      "metadata": {
        "colab": {
          "base_uri": "https://localhost:8080/"
        },
        "id": "lew9UtHQzU6J",
        "outputId": "b4ab5731-e315-402f-fc4f-42de2771a8f1"
      },
      "execution_count": null,
      "outputs": [
        {
          "output_type": "stream",
          "name": "stdout",
          "text": [
            "[5 7 9]\n"
          ]
        }
      ]
    },
    {
      "cell_type": "markdown",
      "source": [
        "##subtraction"
      ],
      "metadata": {
        "id": "r0y4lO6_z5Iz"
      }
    },
    {
      "cell_type": "code",
      "source": [
        "a=np.array([1,2,3])\n",
        "b=np.array([4,5,6])\n",
        "print(a-b)"
      ],
      "metadata": {
        "colab": {
          "base_uri": "https://localhost:8080/"
        },
        "id": "5sFyKvdY0AC4",
        "outputId": "fe249b51-4ebf-49c7-fe39-d2830d3847f5"
      },
      "execution_count": null,
      "outputs": [
        {
          "output_type": "stream",
          "name": "stdout",
          "text": [
            "[-3 -3 -3]\n"
          ]
        }
      ]
    },
    {
      "cell_type": "markdown",
      "source": [
        "##multiplication"
      ],
      "metadata": {
        "id": "DMCmMDQX0Nal"
      }
    },
    {
      "cell_type": "code",
      "source": [],
      "metadata": {
        "id": "uXUBIshw0634"
      },
      "execution_count": null,
      "outputs": []
    },
    {
      "cell_type": "code",
      "source": [
        "x=np.array([[1,2],[3,4]])\n",
        "y=np.array([[5,6],[7,8]])\n",
        "print(x*y)"
      ],
      "metadata": {
        "colab": {
          "base_uri": "https://localhost:8080/"
        },
        "id": "vWgUoZPs0SRj",
        "outputId": "d8ac29d1-6a24-408e-fe2d-3d0d0d4903ae"
      },
      "execution_count": null,
      "outputs": [
        {
          "output_type": "stream",
          "name": "stdout",
          "text": [
            "[[ 5 12]\n",
            " [21 32]]\n"
          ]
        }
      ]
    },
    {
      "cell_type": "markdown",
      "source": [
        "##Division\n"
      ],
      "metadata": {
        "id": "Ff9tTYnI1Oxg"
      }
    },
    {
      "cell_type": "code",
      "source": [
        "x=np.array([[1,2],[3,4]])\n",
        "y=np.array([[5,6],[7,8]])\n",
        "print(x/y)"
      ],
      "metadata": {
        "colab": {
          "base_uri": "https://localhost:8080/"
        },
        "id": "mbbv_Gis1jxb",
        "outputId": "21cba911-1850-40dc-c31e-60ad66053def"
      },
      "execution_count": null,
      "outputs": [
        {
          "output_type": "stream",
          "name": "stdout",
          "text": [
            "[[0.2        0.33333333]\n",
            " [0.42857143 0.5       ]]\n"
          ]
        }
      ]
    },
    {
      "cell_type": "markdown",
      "source": [
        "#2.Write a script to compute the mean and standard deviation of Numpy array"
      ],
      "metadata": {
        "id": "zXbZXTv81t9c"
      }
    },
    {
      "cell_type": "code",
      "source": [
        "a=np.array([1,2,3,4,5])\n",
        "mean=np.mean(a,dtype=np.int64)\n",
        "print(\"mean:\",mean)\n",
        "std_dev=np.std(a)\n",
        "print(\"standard deviation:\",std_dev)\n"
      ],
      "metadata": {
        "colab": {
          "base_uri": "https://localhost:8080/"
        },
        "id": "Ihopc66M19nH",
        "outputId": "b08eedce-0571-447e-962d-c2f3f7f37b7b"
      },
      "execution_count": null,
      "outputs": [
        {
          "output_type": "stream",
          "name": "stdout",
          "text": [
            "mean: 3\n",
            "standard deviation: 1.4142135623730951\n"
          ]
        }
      ]
    },
    {
      "cell_type": "markdown",
      "source": [
        "#3.Create a NumPy array of integers from 10 to 50 with a step size of 5."
      ],
      "metadata": {
        "id": "Y8fd8xup3atH"
      }
    },
    {
      "cell_type": "code",
      "source": [
        "a=np.arange(10,51,5)\n",
        "print(a)"
      ],
      "metadata": {
        "colab": {
          "base_uri": "https://localhost:8080/"
        },
        "id": "kMUZb7o13iqi",
        "outputId": "132f9610-0403-48d2-e278-373d1d887258"
      },
      "execution_count": null,
      "outputs": [
        {
          "output_type": "stream",
          "name": "stdout",
          "text": [
            "[10 15 20 25 30 35 40 45 50]\n"
          ]
        }
      ]
    },
    {
      "cell_type": "markdown",
      "source": [
        "#4. Reshape the array into a 2x4 matrix."
      ],
      "metadata": {
        "id": "lRX4E-yi4XW2"
      }
    },
    {
      "cell_type": "code",
      "source": [
        "a=np.array([1,2,3,4,5,6,7,8])\n",
        "print(a.reshape(2,4))"
      ],
      "metadata": {
        "colab": {
          "base_uri": "https://localhost:8080/"
        },
        "id": "nlr36Rq14ku5",
        "outputId": "7c8fe97f-9549-4fd7-bce8-aad9b0463a7e"
      },
      "execution_count": null,
      "outputs": [
        {
          "output_type": "stream",
          "name": "stdout",
          "text": [
            "[[1 2 3 4]\n",
            " [5 6 7 8]]\n"
          ]
        }
      ]
    },
    {
      "cell_type": "markdown",
      "source": [
        "#5. Given the array arr = np.array([[1, 2, 3], [4, 5, 6], [7, 8, 9]]):\n",
        "• Extract the sub-matrix containing the last two rows and first two columns.\n",
        "\n",
        "• Replace all elements greater than 4 with 0.\n"
      ],
      "metadata": {
        "id": "fYz8T0rQ6FOH"
      }
    },
    {
      "cell_type": "code",
      "source": [
        "arr=np.array([[1,2,3],[4,5,6],[7,8,9]])\n",
        "print(arr[1:,:2])"
      ],
      "metadata": {
        "colab": {
          "base_uri": "https://localhost:8080/"
        },
        "id": "QD0G8ujd6SrM",
        "outputId": "7a53cbd8-d256-448a-f79f-ff7a4e841c33"
      },
      "execution_count": null,
      "outputs": [
        {
          "output_type": "stream",
          "name": "stdout",
          "text": [
            "[[4 5]\n",
            " [7 8]]\n"
          ]
        }
      ]
    },
    {
      "cell_type": "markdown",
      "source": [
        "#Create two 1D arrays:\n",
        "• a = np.array([1, 2, 3])\n",
        "\n",
        "• b = np.array([4, 5, 6])\n",
        "\n",
        "• Perform element-wise addition, multiplication, and division."
      ],
      "metadata": {
        "id": "q8y_6Bcu8OSa"
      }
    },
    {
      "cell_type": "code",
      "source": [
        "a=np.array([1,2,3])\n",
        "b=np.array([4,5,6])\n",
        "print(a+b)\n",
        "print(a-b)\n",
        "print(a*b)\n",
        "print(a/b)"
      ],
      "metadata": {
        "colab": {
          "base_uri": "https://localhost:8080/"
        },
        "id": "Eq5lFZoX8j5J",
        "outputId": "7911beb0-3ea1-4059-f67f-81c7574ac31f"
      },
      "execution_count": null,
      "outputs": [
        {
          "output_type": "stream",
          "name": "stdout",
          "text": [
            "[5 7 9]\n",
            "[-3 -3 -3]\n",
            "[ 4 10 18]\n",
            "[0.25 0.4  0.5 ]\n"
          ]
        }
      ]
    },
    {
      "cell_type": "markdown",
      "source": [
        "#7. Create a random NumPy array of size (4, 4). Compute:\n",
        "• Mean of each column.\n",
        "\n",
        "• Maximum value of the entire array.\n",
        "\n",
        "• Sum of all elements."
      ],
      "metadata": {
        "id": "XfAT42yW9WV7"
      }
    },
    {
      "cell_type": "code",
      "source": [
        "import numpy as np\n",
        "e = np.random.randint(1,101,size=(4,4))\n",
        "print(e)\n",
        "mean=np.mean(e,axis=1)\n",
        "print(mean)\n",
        "max=np.max(e)\n",
        "print(max)\n",
        "sum=np.sum(e)\n",
        "print(sum)"
      ],
      "metadata": {
        "colab": {
          "base_uri": "https://localhost:8080/"
        },
        "id": "0dVGaVEX9cV8",
        "outputId": "4e8f51bc-8d48-4784-87be-fc585b035376"
      },
      "execution_count": null,
      "outputs": [
        {
          "output_type": "stream",
          "name": "stdout",
          "text": [
            "[[84 19 93 12]\n",
            " [95 52 93  7]\n",
            " [89  3 59 22]\n",
            " [64 78  8 16]]\n",
            "[52.   61.75 43.25 41.5 ]\n",
            "95\n",
            "794\n"
          ]
        }
      ]
    },
    {
      "cell_type": "markdown",
      "source": [
        "#8. Given the array arr = np.array([1, 2, 3, 4]), add 10 to each element and multiply the result by 2"
      ],
      "metadata": {
        "id": "k106a2fiBXt0"
      }
    },
    {
      "cell_type": "code",
      "source": [
        "arr=np.array([1,2,3,4])\n",
        "result=arr+10\n",
        "print(result)\n",
        "print(result*2)"
      ],
      "metadata": {
        "colab": {
          "base_uri": "https://localhost:8080/"
        },
        "id": "6wD8I-QsBiFd",
        "outputId": "ae10668e-e600-428a-8c78-e6b53dfe68a5"
      },
      "execution_count": null,
      "outputs": [
        {
          "output_type": "stream",
          "name": "stdout",
          "text": [
            "[11 12 13 14]\n",
            "[22 24 26 28]\n"
          ]
        }
      ]
    },
    {
      "cell_type": "markdown",
      "source": [
        "#9. Perform advanced slicing and indexing on a 3D array.\n",
        "Create a 3D NumPy array arr of shape (3, 4, 5) with random integers ranging from\n",
        "1 to 100. Perform the following:\n",
        "\n",
        "• Extract the second \"layer\" (i.e., the second 2D array) in the first dimension.\n",
        "\n",
        "• Extract the first two rows and the last three columns from each \"layer.\"\n",
        "\n",
        "• Replace all elements divisible by 3 with -1."
      ],
      "metadata": {
        "id": "7puZHLsiCEE2"
      }
    },
    {
      "cell_type": "code",
      "source": [
        "import numpy as np\n",
        "arr=np.random.randint(1,101,size=(3,4,5))\n",
        "print(arr)\n",
        "a=arr[1,:,:]\n",
        "print(a)\n",
        "b=arr[:,:2,-3:]\n",
        "print(b)\n",
        "arr[arr%3==0]=-1\n",
        "print(arr)\n",
        "\n"
      ],
      "metadata": {
        "colab": {
          "base_uri": "https://localhost:8080/"
        },
        "id": "ocvnd43GCNZ5",
        "outputId": "df1dcf59-5fc3-42e8-8a38-f3677f75be19"
      },
      "execution_count": null,
      "outputs": [
        {
          "output_type": "stream",
          "name": "stdout",
          "text": [
            "[[[68 63 70 74 57]\n",
            "  [32 27 19 46 82]\n",
            "  [72 33  8 85  7]\n",
            "  [89 36 13 22  9]]\n",
            "\n",
            " [[85 84 22 61  2]\n",
            "  [65  4  3 87  4]\n",
            "  [15 55 18 97 96]\n",
            "  [78 69 79 92 74]]\n",
            "\n",
            " [[84 27 57 81 74]\n",
            "  [93  1 44 50 30]\n",
            "  [79 79 96 82  6]\n",
            "  [17 54 39 63 50]]]\n",
            "[[85 84 22 61  2]\n",
            " [65  4  3 87  4]\n",
            " [15 55 18 97 96]\n",
            " [78 69 79 92 74]]\n",
            "[[[70 74 57]\n",
            "  [19 46 82]]\n",
            "\n",
            " [[22 61  2]\n",
            "  [ 3 87  4]]\n",
            "\n",
            " [[57 81 74]\n",
            "  [44 50 30]]]\n",
            "[[[68 -1 70 74 -1]\n",
            "  [32 -1 19 46 82]\n",
            "  [-1 -1  8 85  7]\n",
            "  [89 -1 13 22 -1]]\n",
            "\n",
            " [[85 -1 22 61  2]\n",
            "  [65  4 -1 -1  4]\n",
            "  [-1 55 -1 97 -1]\n",
            "  [-1 -1 79 92 74]]\n",
            "\n",
            " [[-1 -1 -1 -1 74]\n",
            "  [-1  1 44 50 -1]\n",
            "  [79 79 -1 82 -1]\n",
            "  [17 -1 -1 -1 50]]]\n"
          ]
        }
      ]
    },
    {
      "cell_type": "markdown",
      "source": [
        "#10.Work with broadcasting and advanced operations in NumPy.\n",
        "\n",
        " Create a NumPy array arr of shape (3, 3) with random integers between\n",
        " 1 and 20. Perform the following:\n",
        "\n",
        "• Subtract the mean of each row from its respective elements (row-wise\n",
        "normalization).\n",
        "\n",
        "• Create a new array by squaring all the elements in arr.\n",
        "\n",
        "• Find the indices of the top 3 maximum values in the entire arra"
      ],
      "metadata": {
        "id": "La0DnI7ALKE5"
      }
    },
    {
      "cell_type": "code",
      "source": [
        "import numpy as np\n",
        "arr = np.random.randint(1, 21, size=(3, 3))\n",
        "print(arr)\n",
        "row_means = np.mean(arr, axis=1, keepdims=True)\n",
        "normalized_arr = arr - row_means\n",
        "print(normalized_arr)\n",
        "squared_arr = np.square(arr)\n",
        "print(squared_arr)\n",
        "flattened_arr = arr.flatten()\n",
        "top_3_indices = np.argsort(flattened_arr)[-3:]\n",
        "top_3_2d_indices = np.unravel_index(top_3_indices, arr.shape)\n",
        "print(top_3_2d_indices)\n"
      ],
      "metadata": {
        "colab": {
          "base_uri": "https://localhost:8080/"
        },
        "id": "lJEiXbMKLWZg",
        "outputId": "12ee2349-fcff-4cc8-a3b5-657a0de92742"
      },
      "execution_count": null,
      "outputs": [
        {
          "output_type": "stream",
          "name": "stdout",
          "text": [
            "[[12 19  4]\n",
            " [ 8 16 10]\n",
            " [18 13  9]]\n",
            "[[ 0.33333333  7.33333333 -7.66666667]\n",
            " [-3.33333333  4.66666667 -1.33333333]\n",
            " [ 4.66666667 -0.33333333 -4.33333333]]\n",
            "[[144 361  16]\n",
            " [ 64 256 100]\n",
            " [324 169  81]]\n",
            "(array([1, 2, 0]), array([1, 0, 1]))\n"
          ]
        }
      ]
    }
  ]
}